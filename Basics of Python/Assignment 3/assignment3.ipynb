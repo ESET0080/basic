{
 "cells": [
  {
   "cell_type": "markdown",
   "id": "07b1b26e",
   "metadata": {},
   "source": [
    "Importing Libraries"
   ]
  },
  {
   "cell_type": "markdown",
   "id": "815f089a",
   "metadata": {},
   "source": [
    "Assignment DAY - 3"
   ]
  },
  {
   "cell_type": "code",
   "execution_count": 1,
   "id": "59ab3eb4",
   "metadata": {},
   "outputs": [],
   "source": [
    "import numpy as np \n",
    "import pandas as pd \n"
   ]
  },
  {
   "cell_type": "markdown",
   "id": "36dc861c",
   "metadata": {},
   "source": [
    "# Task 1:- Create a 2D array and multiple each element of the array by 2 and print both old and new array"
   ]
  },
  {
   "cell_type": "code",
   "execution_count": 3,
   "id": "8402ce59",
   "metadata": {},
   "outputs": [],
   "source": [
    "arr = np.array([[1,2,3],[4,5,6],[7,8,9]]) "
   ]
  },
  {
   "cell_type": "code",
   "execution_count": 4,
   "id": "e1c1cb32",
   "metadata": {},
   "outputs": [],
   "source": [
    "arr2 = arr*2"
   ]
  },
  {
   "cell_type": "code",
   "execution_count": 7,
   "id": "336cedb6",
   "metadata": {},
   "outputs": [
    {
     "name": "stdout",
     "output_type": "stream",
     "text": [
      "old array: \n",
      " [[1 2 3]\n",
      " [4 5 6]\n",
      " [7 8 9]]\n",
      "\n",
      "ew array: \n",
      " [[ 2  4  6]\n",
      " [ 8 10 12]\n",
      " [14 16 18]]\n"
     ]
    }
   ],
   "source": [
    "print (\"old array: \\n\", arr)\n",
    "print (\"\\new array: \\n\",arr2)"
   ]
  },
  {
   "cell_type": "markdown",
   "id": "e47d0419",
   "metadata": {},
   "source": [
    "## Task2:- Create a DataFrame from a dictionary"
   ]
  },
  {
   "cell_type": "code",
   "execution_count": 15,
   "id": "6f29d7e8",
   "metadata": {},
   "outputs": [
    {
     "name": "stdout",
     "output_type": "stream",
     "text": [
      "dataframe:\n",
      "  product_name    price  stock_quantity\n",
      "0       copper     1000              10\n",
      "1      diamond  1000000              70\n",
      "2         gold    10000              40\n",
      "3       silver    10000              30\n"
     ]
    }
   ],
   "source": [
    "dc = {\"product_name\": [\"copper\", \"diamond\", \"gold\", \"silver\"],\n",
    "      \"price\": [1000, 1000000, 10000, 10000],\n",
    "      \"stock_quantity\": [10,70,40,30]}\n",
    "\n",
    "df = pd.DataFrame(dc)\n",
    "\n",
    "print (f\"dataframe:\\n{df}\")\n"
   ]
  },
  {
   "cell_type": "markdown",
   "id": "78eb7672",
   "metadata": {},
   "source": [
    "## Task 3 - Data Filtering"
   ]
  },
  {
   "cell_type": "code",
   "execution_count": 14,
   "id": "c92f6eff",
   "metadata": {},
   "outputs": [
    {
     "name": "stdout",
     "output_type": "stream",
     "text": [
      "filtered DataFrame:\n",
      "  product_name    price  stock_quantity\n",
      "1      diamond  1000000              70\n"
     ]
    }
   ],
   "source": [
    "filtered_df = df[df[\"stock_quantity\"]>50]\n",
    "print(f\"filtered DataFrame:\\n{filtered_df}\")"
   ]
  }
 ],
 "metadata": {
  "kernelspec": {
   "display_name": "Python 3",
   "language": "python",
   "name": "python3"
  },
  "language_info": {
   "codemirror_mode": {
    "name": "ipython",
    "version": 3
   },
   "file_extension": ".py",
   "mimetype": "text/x-python",
   "name": "python",
   "nbconvert_exporter": "python",
   "pygments_lexer": "ipython3",
   "version": "3.13.7"
  }
 },
 "nbformat": 4,
 "nbformat_minor": 5
}
